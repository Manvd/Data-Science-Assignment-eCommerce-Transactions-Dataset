{
  "nbformat": 4,
  "nbformat_minor": 0,
  "metadata": {
    "colab": {
      "provenance": []
    },
    "kernelspec": {
      "name": "python3",
      "display_name": "Python 3"
    },
    "language_info": {
      "name": "python"
    }
  },
  "cells": [
    {
      "cell_type": "code",
      "source": [
        "import pandas as pd\n",
        "from sklearn.preprocessing import StandardScaler, OneHotEncoder\n",
        "from sklearn.metrics.pairwise import cosine_similarity\n",
        "import numpy as np"
      ],
      "metadata": {
        "id": "TS5Z8uxOeI_I"
      },
      "execution_count": null,
      "outputs": []
    },
    {
      "cell_type": "code",
      "source": [
        "customers_df = pd.read_csv(\"Customers.csv\")\n",
        "products_df = pd.read_csv(\"Products.csv\")\n",
        "transactions_df = pd.read_csv(\"Transactions.csv\")"
      ],
      "metadata": {
        "id": "13wpsBbDeOGN"
      },
      "execution_count": null,
      "outputs": []
    },
    {
      "cell_type": "code",
      "source": [
        "merged_df = transactions_df.merge(customers_df, on=\"CustomerID\").merge(products_df, on=\"ProductID\")"
      ],
      "metadata": {
        "id": "rP_9uVEeeTfl"
      },
      "execution_count": null,
      "outputs": []
    },
    {
      "cell_type": "code",
      "source": [
        "customer_features = merged_df.groupby(\"CustomerID\").agg({\n",
        "    \"Region\": 'first',\n",
        "    \"SignupDate\": 'first',\n",
        "    \"Category\": lambda x: x.mode()[0],  # Most frequent category\n",
        "    \"TotalValue\": 'sum',\n",
        "    \"Quantity\": 'sum'\n",
        "}).reset_index()\n"
      ],
      "metadata": {
        "id": "hLbJr8M3eV8h"
      },
      "execution_count": null,
      "outputs": []
    },
    {
      "cell_type": "code",
      "source": [
        "customer_features[\"SignupDate\"] = pd.to_datetime(customer_features[\"SignupDate\"])  # Convert to datetime\n",
        "customer_features[\"SignupDate\"] = (customer_features[\"SignupDate\"] - customer_features[\"SignupDate\"].min()).dt.days"
      ],
      "metadata": {
        "id": "ZthloZrKeYVb"
      },
      "execution_count": null,
      "outputs": []
    },
    {
      "cell_type": "code",
      "source": [
        "encoder = OneHotEncoder()\n",
        "categorical_features = encoder.fit_transform(customer_features[[\"Region\", \"Category\"]]).toarray()"
      ],
      "metadata": {
        "id": "zq9HKTvDecGI"
      },
      "execution_count": null,
      "outputs": []
    },
    {
      "cell_type": "code",
      "source": [
        "scaler = StandardScaler()\n",
        "numerical_features = scaler.fit_transform(customer_features[[\"SignupDate\", \"TotalValue\", \"Quantity\"]])\n"
      ],
      "metadata": {
        "id": "8V8y0XmRe67P"
      },
      "execution_count": null,
      "outputs": []
    },
    {
      "cell_type": "code",
      "source": [
        "final_features = np.hstack((numerical_features, categorical_features))\n"
      ],
      "metadata": {
        "id": "IEWKD175e973"
      },
      "execution_count": null,
      "outputs": []
    },
    {
      "cell_type": "code",
      "source": [
        "similarity_matrix = cosine_similarity(final_features)\n"
      ],
      "metadata": {
        "id": "4BXHqCzyfAp5"
      },
      "execution_count": null,
      "outputs": []
    },
    {
      "cell_type": "code",
      "source": [
        "lookalike_data = {}\n",
        "for idx in range(20):  # First 20 customers\n",
        "    customer_id = customer_features.iloc[idx][\"CustomerID\"]\n",
        "    similar_indices = np.argsort(similarity_matrix[idx])[::-1][1:4]  # Top 3 similar customers\n",
        "    similar_customers = [(customer_features.iloc[i][\"CustomerID\"], round(similarity_matrix[idx][i], 4)) for i in similar_indices]\n",
        "    lookalike_data[customer_id] = similar_customers"
      ],
      "metadata": {
        "id": "NMemqFwufF3x"
      },
      "execution_count": null,
      "outputs": []
    },
    {
      "cell_type": "code",
      "source": [
        "lookalike_df = pd.DataFrame(list(lookalike_data.items()), columns=[\"CustomerID\", \"SimilarCustomers\"])\n",
        "lookalike_df.to_csv(\"Lookalike.csv\", index=False)"
      ],
      "metadata": {
        "id": "aa3qKEtRfIry"
      },
      "execution_count": null,
      "outputs": []
    },
    {
      "cell_type": "code",
      "source": [
        "print(\"Lookalike model completed. Check Lookalike.csv for results.\")\n"
      ],
      "metadata": {
        "id": "l4o0ojlSfKKF",
        "outputId": "b7fc2243-3f28-4a80-e30a-06b8b213f698",
        "colab": {
          "base_uri": "https://localhost:8080/"
        }
      },
      "execution_count": null,
      "outputs": [
        {
          "output_type": "stream",
          "name": "stdout",
          "text": [
            "Lookalike model completed. Check Lookalike.csv for results.\n"
          ]
        }
      ]
    }
  ]
}